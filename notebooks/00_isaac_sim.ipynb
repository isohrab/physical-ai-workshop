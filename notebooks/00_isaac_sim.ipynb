{
 "cells": [
  {
   "cell_type": "markdown",
   "id": "866346ed",
   "metadata": {},
   "source": [
    "# Physical AI Workshop — Isaac Sim\n",
    "\n",
    "## 1) explore Isaac Sim\n",
    "\n",
    "### Launch Isaac Sim\n",
    "\n",
    "Double‑click the **Isaac Sim** icon on the desktop.\n",
    "\n",
    "> **Note**: Launching the Isaac Sim app can take around 10 minutes for the first time. Wait until you see a message \"Isaac Sim Full App is loaded\" before proceeding.\n",
    "\n",
    "### Create a tiny scene\n",
    "\n",
    "1. **New Stage**: _File → New_.\n",
    "2. **Add a ground**: _Create → Physics → Ground Plane_.\n",
    "3. **Add a cube**: _Create → Shape → Cube_.\n",
    "4. **Make it physical** (so it falls / collides): Select the cube in the **Stage** tree → in **Property** panel click **Add → Physics → Rigid Body with Colliders Preset**.\n",
    "5. **Play** the simulation (▶) and move/duplicate cubes to experiment. Use **Translate (W)**, **Rotate (E)**, **Scale (R)**.\n",
    "\n",
    "> Try changing friction or mass in the Property panel and rerun ▶ to see the effect.\n",
    "\n",
    "---\n",
    "\n",
    "## 3) Load pre-trained policies from NVIDIA examples\n",
    "\n",
    "Isaac Sim provides several pre-trained reinforcement learning policies that you can try immediately. These examples demonstrate how trained Isaac Lab policies work in Isaac Sim.\n",
    "\n",
    "### Access the Robotics Examples\n",
    "\n",
    "1. **Open the Examples Browser**: Go to **Windows** → **Examples** → **Robotics Examples**. This opens the `Robotics Examples` tab in the bottom-left panel.\n",
    "\n",
    "2. **Navigate to Policy Examples**: In the left panel, click on **POLICY** to see the available pre-trained policy examples.\n",
    "\n",
    "### Available Pre-trained Policy Examples\n",
    "\n",
    "#### Unitree H1 Humanoid Example\n",
    "\n",
    "1. **Create an empty stage** first (_File → New_).\n",
    "2. In **Robotics Examples** → **POLICY** → **Humanoid**.\n",
    "3. Press **LOAD** to open the scene.\n",
    "4. Press **Play** (▶) to start the simulation.\n",
    "\n",
    "This example uses the H1 Flat Terrain Policy trained in Isaac Lab to control humanoid locomotion.\n",
    "\n",
    "**Controls:**\n",
    "\n",
    "- Forward: UP ARROW / NUM 8\n",
    "- Turn Left: LEFT ARROW / NUM 4\n",
    "- Turn Right: RIGHT ARROW / NUM 6\n",
    "\n",
    "> Try other examples too!\n"
   ]
  },
  {
   "cell_type": "markdown",
   "id": "92d6e572",
   "metadata": {},
   "source": []
  }
 ],
 "metadata": {
  "language_info": {
   "name": "python"
  }
 },
 "nbformat": 4,
 "nbformat_minor": 5
}
