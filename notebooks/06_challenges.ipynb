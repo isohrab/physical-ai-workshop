{
 "cells": [
  {
   "cell_type": "markdown",
   "id": "2ee47c69",
   "metadata": {},
   "source": [
    "# Workshop Challenges\n",
    "\n",
    "## Introduction\n",
    "\n",
    "As we saw, the robot couldn't put the pen in the plate! Why? Share your thoughts with us :)\n",
    "\n",
    "We have prepared 3 challenges for you. Depending on your interest, pick one and try to achieve it.\n",
    "\n",
    "## Challenge 1: Manual Keyboard Control\n",
    "\n",
    "Control the LeRobot arm with keyboard and try to put the pen on the plate.\n",
    "\n",
    "**Helpful Resources:**\n",
    "\n",
    "- [Isaac Sim GUI Tutorials](https://docs.isaacsim.omniverse.nvidia.com/5.0.0/gui_tutorials/index.html)\n",
    "- [Isaac Sim Core API Tutorials](https://docs.isaacsim.omniverse.nvidia.com/5.0.0/core_api_tutorials/index.html)\n",
    "- [Isaac Sim Manipulator Tutorial](https://docs.isaacsim.omniverse.nvidia.com/5.0.0/core_api_tutorials/tutorial_core_adding_manipulator.html)\n",
    "\n",
    "## Challenge 2: RL Training Policy\n",
    "\n",
    "Define an RL training policy in IsaacLab that we can fine-tune the model again in the simulator.\n",
    "\n",
    "**Helpful Resources:**\n",
    "\n",
    "- [IsaacLab Documentation](https://isaac-sim.github.io/IsaacLab/main/index.html)\n",
    "- [IsaacLab RL Training Tutorial](https://isaac-sim.github.io/IsaacLab/main/source/tutorials/03_envs/run_rl_training.html)\n",
    "- [IsaacLab Environment Creation](https://isaac-sim.github.io/IsaacLab/main/source/tutorials/03_envs/create_rl_env.html)\n",
    "- [Training Guide](https://isaac-sim.github.io/IsaacLab/main/source/overview/reinforcement-learning/training_guide.html)\n",
    "\n",
    "## Challenge 3: Gripper Enhancement\n",
    "\n",
    "Add rubber tips to the LeRobot grips to avoid the pen slipping! (You can find the answer ;)\n",
    "\n",
    "**Helpful Resources:**\n",
    "\n",
    "- [Isaac Sim Physics Materials](https://docs.isaacsim.omniverse.nvidia.com/5.0.0/features/physics_simulation/physics_materials.html)\n",
    "- [Isaac Sim Robot Setup](https://docs.isaacsim.omniverse.nvidia.com/5.0.0/robot_setup_tutorials/index.html)\n",
    "- [Manipulator Configuration](https://docs.isaacsim.omniverse.nvidia.com/5.0.0/robot_setup_tutorials/tutorial_configure_manipulator.html)\n",
    "\n",
    "## Getting Started\n",
    "\n",
    "Choose the challenge that interests you most and dive in! Share your progress and questions in the workshop Teams channel.\n",
    "\n",
    "Good luck! 🤖\n"
   ]
  },
  {
   "cell_type": "markdown",
   "id": "f6c4c0c6",
   "metadata": {},
   "source": []
  }
 ],
 "metadata": {
  "language_info": {
   "name": "python"
  }
 },
 "nbformat": 4,
 "nbformat_minor": 5
}
